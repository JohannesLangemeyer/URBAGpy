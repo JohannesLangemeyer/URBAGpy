{
 "cells": [
  {
   "cell_type": "markdown",
   "metadata": {},
   "source": [
    "<h1>Class 1</h1>"
   ]
  },
  {
   "cell_type": "markdown",
   "metadata": {},
   "source": [
    "<h3> how to execute python</h3>\n",
    "<ul>\n",
    "    <li>In Jupiter Lab</li>\n",
    "    <ul>\n",
    "        <li> Execute Cells </li>\n",
    "        <li> Diferent types of cells </li>\n",
    "        <li> New python notebook </li>\n",
    "        <li> JupiterLab vs jupiterNotebook </li>\n",
    "        <li> Kernels Management </li>\n",
    "        <li> Restart a Kernel </li>\n",
    "        <li> Using the terminal in Jupiter</li>\n",
    "        <li> questions... </li>\n",
    "    </ul>\n",
    "    <li> Spyder </li>\n",
    "    <li> Terminal </li>\n",
    "    <li> Anaconda Overview </li>\n",
    "    <ul>\n",
    "        <li> packages </li>\n",
    "        <li> environments </li>\n",
    "        <li> other applications </li>\n",
    "    </ul>\n",
    "</ul>"
   ]
  },
  {
   "cell_type": "markdown",
   "metadata": {},
   "source": [
    "<h2> Intro to Python </h2>\n",
    "<ul>\n",
    "    <li>Basics of Python 1</li>\n",
    "        <ul>\n",
    "            <li>\n",
    "                Print Statement\n",
    "            </li>\n",
    "            <li>\n",
    "                Strings\n",
    "            </li>            \n",
    "            <li>\n",
    "                Numbers\n",
    "            </li>\n",
    "            <li>\n",
    "                Dates\n",
    "            </li>  \n",
    "        </ul>\n",
    "    <li>Basics of Python 2 </li>\n",
    "        <ul>\n",
    "            <li>\n",
    "                Lists\n",
    "            </li>\n",
    "            <li>\n",
    "                Tuples\n",
    "            </li>\n",
    "            <li>\n",
    "                Dictionaries\n",
    "            </li>            \n",
    "            <li>\n",
    "                Control flow\n",
    "            </li>            \n",
    "            <li>\n",
    "                Functions\n",
    "            </li>\n",
    "            <li>\n",
    "                Exceptions\n",
    "            </li>   \n",
    "        </ul>\n",
    "</ul>"
   ]
  }
 ],
 "metadata": {
  "kernelspec": {
   "display_name": "Python 3",
   "language": "python",
   "name": "python3"
  },
  "language_info": {
   "codemirror_mode": {
    "name": "ipython",
    "version": 3
   },
   "file_extension": ".py",
   "mimetype": "text/x-python",
   "name": "python",
   "nbconvert_exporter": "python",
   "pygments_lexer": "ipython3",
   "version": "3.7.4"
  }
 },
 "nbformat": 4,
 "nbformat_minor": 4
}
