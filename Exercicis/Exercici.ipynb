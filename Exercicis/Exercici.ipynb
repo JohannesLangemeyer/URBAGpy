{
 "cells": [
  {
   "cell_type": "markdown",
   "metadata": {},
   "source": [
    "Volem aprofundir en l'estudi de les dades meteorològiques que hem presentat.\n",
    "- Generau un csv on a més a més dels camps que ja tenim per a cada observació també tinguem els següents camps:\n",
    " - lat\n",
    " - lon\n",
    " - alt\n",
    " - diaSet (de dilluns a diumenge)\n",
    " - diaMes (1 a 31)\n",
    " - mes (1-12)\n",
    " - any\n",
    " - hora (0-23)\n",
    "\n",
    "Volem 12 gràfiques, una per a cada mes, on poguem veure la mitjana de temperatura a cada hora del dia.\n",
    "\n",
    "Com estudiarieu l'evolució de la direcció del vent al llarg del dia?\n",
    "\n",
    "Podem veure si aquest patró va variant en funció del més en que ens trobem?\n",
    "\n",
    "De les diferents dades meteorològiques presentades quines tenen una major correlació?\n",
    "\n",
    "Quin dia de la setmana ha acumulat més pluja en el període de dades recollit?\n"
   ]
  }
 ],
 "metadata": {
  "kernelspec": {
   "display_name": "Python 3",
   "language": "python",
   "name": "python3"
  },
  "language_info": {
   "codemirror_mode": {
    "name": "ipython",
    "version": 3
   },
   "file_extension": ".py",
   "mimetype": "text/x-python",
   "name": "python",
   "nbconvert_exporter": "python",
   "pygments_lexer": "ipython3",
   "version": "3.7.4"
  }
 },
 "nbformat": 4,
 "nbformat_minor": 4
}
